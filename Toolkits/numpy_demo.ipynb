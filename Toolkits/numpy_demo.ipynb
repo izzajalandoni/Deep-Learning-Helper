{
 "cells": [
  {
   "cell_type": "markdown",
   "id": "b3c79251",
   "metadata": {},
   "source": [
    "## Linear Operations using Numpy"
   ]
  },
  {
   "cell_type": "markdown",
   "id": "8f0ffb6d",
   "metadata": {},
   "source": [
    "You will be dealing with _**a lot**_ of maths (linear algebra) later on in this subject. As such, `numpy` will be your best friend sooner or later.\n",
    "\n",
    "With that, in this demo, we will go through some linear algebra operations using numpy."
   ]
  },
  {
   "cell_type": "code",
   "execution_count": 1,
   "id": "74c0a99c",
   "metadata": {},
   "outputs": [],
   "source": [
    "import numpy as np"
   ]
  },
  {
   "cell_type": "markdown",
   "id": "fe26053e",
   "metadata": {},
   "source": [
    "### Linear Systems with Numpy"
   ]
  },
  {
   "cell_type": "markdown",
   "id": "127b07cf",
   "metadata": {},
   "source": [
    "In this section, we start with a simple exercise of solving some linear systems using numpy. Consider the following system:\n",
    "\n",
    "$$\n",
    "-2x_2 + 3x_3 = 1\n",
    "$$\n",
    "$$\n",
    "3x_1 + 6x_2 - 3x_3 = -2\n",
    "$$\n",
    "$$\n",
    "6x_1 + 6x_2 + 3x_3 = 5\n",
    "$$\n",
    "\n",
    "Elementary Linear Algebra, p. 23"
   ]
  },
  {
   "cell_type": "code",
   "execution_count": 2,
   "id": "a5974b89",
   "metadata": {},
   "outputs": [
    {
     "name": "stdout",
     "output_type": "stream",
     "text": [
      "[[ 0 -2  3]\n",
      " [ 3  6 -3]\n",
      " [ 6  6  3]] [ 1 -2  5]\n"
     ]
    }
   ],
   "source": [
    "A = np.array([[0, -2, 3],[3, 6, -3], [6, 6, 3]])\n",
    "b = np.array([1, -2, 5])\n",
    "\n",
    "print(A, b)"
   ]
  },
  {
   "cell_type": "markdown",
   "id": "ace2c145",
   "metadata": {},
   "source": [
    "With numpy, you can actually solve this system using one function, `linalg.solve()`."
   ]
  },
  {
   "cell_type": "code",
   "execution_count": 3,
   "id": "4ee51d5b",
   "metadata": {},
   "outputs": [
    {
     "name": "stdout",
     "output_type": "stream",
     "text": [
      "[ 2.40191980e+16 -1.80143985e+16 -1.20095990e+16]\n"
     ]
    }
   ],
   "source": [
    "print(np.linalg.solve(A, b))"
   ]
  },
  {
   "cell_type": "markdown",
   "id": "5488c1a5",
   "metadata": {},
   "source": [
    "On another note, you can also solve this sytem using inverse `inv()` function.\n",
    "\n",
    "$$\n",
    "\\textrm{A}x = \\textrm{b}\n",
    "$$\n",
    "$$\n",
    "x = \\textrm{A}^{-1}b\n",
    "$$"
   ]
  },
  {
   "cell_type": "code",
   "execution_count": 4,
   "id": "b5ff0ce7",
   "metadata": {},
   "outputs": [
    {
     "name": "stdout",
     "output_type": "stream",
     "text": [
      "[ 2.40191980e+16 -1.80143985e+16 -1.20095990e+16]\n",
      "[ 2.40191980e+16 -1.80143985e+16 -1.20095990e+16]\n"
     ]
    }
   ],
   "source": [
    "print(np.linalg.inv(A).dot(b))\n",
    "print(np.dot(np.linalg.inv(A), b))"
   ]
  },
  {
   "cell_type": "markdown",
   "id": "b511dc82",
   "metadata": {},
   "source": [
    "### Numpy Simulation of Attention"
   ]
  },
  {
   "cell_type": "markdown",
   "id": "7c6c5742",
   "metadata": {},
   "source": [
    "When we discuss transformers later on, one of the equations or terms you'll encounter is attention.\n",
    "\n",
    "$$\n",
    "Attention(Q,K,V) = \\textrm{softmax}(\\frac{QK^T}{\\sqrt(d_k)})V\n",
    "$$\n",
    "\n",
    "$Q$, $K$ and $V$ variables in the equation are the _query_, _key_ and _vector_ matrices, respectively. And put simply, attention is like a scoring function which tells your neural model where to \"pay attention\" to based on these matrix values.\n",
    "\n",
    "In this section, we try to simulate and visualize _attention_ by using numpy functions."
   ]
  },
  {
   "cell_type": "code",
   "execution_count": 5,
   "id": "2cf4a60d",
   "metadata": {},
   "outputs": [],
   "source": [
    "import numpy as np"
   ]
  },
  {
   "cell_type": "markdown",
   "id": "cd4c1a2f",
   "metadata": {},
   "source": [
    "Consider that each of the vectors below are simple embeddings to each word in a random 3-word sentence.\n",
    "\n",
    "We concatenate those vectors to form our sentence matrix, _words_, where each row correspond to a word in our sentence."
   ]
  },
  {
   "cell_type": "code",
   "execution_count": 6,
   "id": "8004d310",
   "metadata": {},
   "outputs": [
    {
     "name": "stdout",
     "output_type": "stream",
     "text": [
      "[[ 0.27392337 -0.46042657 -0.91805295 -0.96694473]\n",
      " [ 0.62654048  0.82551115  0.21327155  0.45899312]\n",
      " [ 0.08724998  0.87014485  0.63170711 -0.994523  ]]\n"
     ]
    }
   ],
   "source": [
    "rng = np.random.default_rng(0)\n",
    "\n",
    "word_1 = rng.uniform(-1, 1, (1,4))\n",
    "word_2 = rng.uniform(-1, 1, (1,4))\n",
    "word_3 = rng.uniform(-1, 1, (1,4))\n",
    "words = np.concatenate((word_1, word_2, word_3), axis=0)\n",
    "\n",
    "print(words)"
   ]
  },
  {
   "cell_type": "markdown",
   "id": "ad48643e",
   "metadata": {},
   "source": [
    "Unlike RNNs which take each of these vectors sequentially, transformers take the entire matrix at once. While this can speed up computation, a problem, however, is they lose information order which is important whether you're processing texts, images, or audio.\n",
    "\n",
    "To address this, transformers require position embeddings. The idea is that these position embeddings will help the model track input positions, and overall give the sequence information. For our position encoder, we consider the following:\n",
    "\n",
    "$$\n",
    "\\textrm{PE}_{(\\textrm{pos},2i)} = \\sin\\Biggl(\\frac{\\textrm{pos}}{10000^{\\frac{2i}{d}}}\\Biggr)\n",
    "$$\n",
    "\n",
    "$$\n",
    "\\textrm{PE}_{(\\textrm{pos},2i+1)} = \\cos\\Biggl(\\frac{\\textrm{pos}}{10000^{\\frac{2i}{d}}}\\Biggr)\n",
    "$$\n",
    "\n",
    "<br>\n",
    "<center>\n",
    "    where $pos$ is the position of the corresponding word in the sentence, $i$ is the index of the word embedding, and $d$ the size of the embedding\n",
    "</center> "
   ]
  },
  {
   "cell_type": "code",
   "execution_count": 7,
   "id": "44664efa",
   "metadata": {
    "scrolled": true
   },
   "outputs": [
    {
     "name": "stdout",
     "output_type": "stream",
     "text": [
      "[[0.0000000e+00 8.4147102e-01 9.0929741e-01 1.4112000e-01]\n",
      " [1.0000000e+00 9.9999768e-01 9.9999070e-01 9.9997914e-01]\n",
      " [0.0000000e+00 4.6415889e-06 9.2831779e-06 1.3924767e-05]]\n"
     ]
    }
   ],
   "source": [
    "def position_encoder(pos, d):\n",
    "    pos_matrix = np.indices((d,pos))[1].astype(np.float32)\n",
    "    i = 0\n",
    "    \n",
    "    for pos in pos_matrix:\n",
    "        if i%2 == 0:\n",
    "            pos_matrix[i,:] = np.sin(pos/(10000**(2*i/d)))\n",
    "        else:\n",
    "            pos_matrix[i,:] = np.cos(pos/(10000**(2*i/d)))\n",
    "        i+=1\n",
    "    return pos_matrix\n",
    "    \n",
    "d, pos = words.shape\n",
    "pos_matrix = position_encoder(pos,d)\n",
    "print(pos_matrix)"
   ]
  },
  {
   "cell_type": "markdown",
   "id": "e3e2e1cc",
   "metadata": {},
   "source": [
    "With our encoded words and position embeddings, our final input matrix simply becomes the sum of these two matrices."
   ]
  },
  {
   "cell_type": "code",
   "execution_count": 8,
   "id": "23b729f8",
   "metadata": {},
   "outputs": [
    {
     "name": "stdout",
     "output_type": "stream",
     "text": [
      "[[ 0.27392337  0.38104444 -0.00875555 -0.82582473]\n",
      " [ 1.62654048  1.82550883  1.21326225  1.45897226]\n",
      " [ 0.08724998  0.87014949  0.63171639 -0.99450907]]\n"
     ]
    }
   ],
   "source": [
    "input = words + pos_matrix\n",
    "print(input)"
   ]
  },
  {
   "cell_type": "markdown",
   "id": "71dd26a7",
   "metadata": {},
   "source": [
    "Now, let us initialize our weights for our query, key, and value matrices from a Gaussian distribution. Our final $Q$, $K$, and $V$ matrices are simply obtained by multiplying these weights with our input.\n",
    "\n",
    "_**NOTE:**_ Normally, in training your neural models, the model will change these weights accordingly to what the model learned while training. However, in the case of this exercise, we will simply use these initialized weights."
   ]
  },
  {
   "cell_type": "code",
   "execution_count": 9,
   "id": "c1581633",
   "metadata": {},
   "outputs": [
    {
     "name": "stdout",
     "output_type": "stream",
     "text": [
      "W_q=\n",
      " [[ 0.00104711  0.00926139  0.01921466]\n",
      " [-0.0772992   0.06210223 -0.04785413]\n",
      " [-0.08284237  0.15353665 -0.13512813]\n",
      " [ 0.0116099  -0.06645608 -0.0677551 ]]\n",
      "\n",
      "W_k=\n",
      " [[-0.04172218  0.05058053 -0.09040176]\n",
      " [ 0.07286351  0.03226146  0.12141435]\n",
      " [ 0.03037572  0.05792802 -0.04821   ]\n",
      " [-0.06416639 -0.05101573 -0.0818531 ]]\n",
      "\n",
      "W_v=\n",
      " [[ 0.17561511 -0.17746427 -0.06664421]\n",
      " [-0.07987087 -0.00463033  0.1119471 ]\n",
      " [-0.02410316  0.09446705  0.11131157]\n",
      " [ 0.09684472 -0.07708445 -0.06873462]]\n",
      "\n"
     ]
    }
   ],
   "source": [
    "mu, sigma = 0, 0.1\n",
    "\n",
    "Wq = np.random.normal(mu, sigma, (pos,d))\n",
    "Wk = np.random.normal(mu, sigma, (pos,d))\n",
    "Wv = np.random.normal(mu, sigma, (pos,d))\n",
    "\n",
    "print(\"W_q=\\n {}\\n\".format(Wq))\n",
    "print(\"W_k=\\n {}\\n\".format(Wk))\n",
    "print(\"W_v=\\n {}\\n\".format(Wv))"
   ]
  },
  {
   "cell_type": "code",
   "execution_count": 10,
   "id": "67fddfbb",
   "metadata": {
    "scrolled": true
   },
   "outputs": [
    {
     "name": "stdout",
     "output_type": "stream",
     "text": [
      "Q=\n",
      " [[-0.03803001  0.0797374   0.04416575]\n",
      " [-0.22297821  0.21775484 -0.31890338]\n",
      " [-0.13104953  0.21792907 -0.05794337]]\n",
      "\n",
      "K=\n",
      " [[ 0.06905979  0.0677711   0.08951952]\n",
      " [ 0.0083869   0.1370162  -0.10331194]\n",
      " [ 0.14276478  0.11981513  0.14870968]]\n",
      "\n",
      "V=\n",
      " [[-0.06209499  0.01245516  0.08018957]\n",
      " [ 0.25189041 -0.29495628  0.13072913]\n",
      " [-0.16571649  0.11682474  0.23027054]]\n",
      "\n"
     ]
    }
   ],
   "source": [
    "Q = np.matmul(input, Wq) # You can use np.matmul() or use @\n",
    "K = np.matmul(input, Wk)\n",
    "V = np.matmul(input, Wv)\n",
    "\n",
    "print(\"Q=\\n {}\\n\".format(Q))\n",
    "print(\"K=\\n {}\\n\".format(K))\n",
    "print(\"V=\\n {}\\n\".format(V))"
   ]
  },
  {
   "cell_type": "markdown",
   "id": "7cde6175",
   "metadata": {},
   "source": [
    "$d_k$ is the dimension of our queries and keys. We divide the dot product of $QK^T$ with $\\sqrt(d_k)$ as a normalization process."
   ]
  },
  {
   "cell_type": "code",
   "execution_count": 11,
   "id": "032369e5",
   "metadata": {},
   "outputs": [
    {
     "name": "stdout",
     "output_type": "stream",
     "text": [
      "[1.7320508]\n"
     ]
    }
   ],
   "source": [
    "d_k = np.array([Q.shape[0]**0.5], dtype=np.float32)\n",
    "print(d_k)"
   ]
  },
  {
   "cell_type": "markdown",
   "id": "18311f89",
   "metadata": {},
   "source": [
    "We get our attention score by taking the softmax of the dot product between our $Q$ and $K$ divided by $d_k$."
   ]
  },
  {
   "cell_type": "code",
   "execution_count": 12,
   "id": "e012f43c",
   "metadata": {},
   "outputs": [
    {
     "name": "stdout",
     "output_type": "stream",
     "text": [
      "[[0.33312318 0.33299094 0.33388588]\n",
      " [0.32898536 0.34655223 0.32446242]\n",
      " [0.33124182 0.33785024 0.33090794]]\n"
     ]
    }
   ],
   "source": [
    "from scipy.special import softmax\n",
    "\n",
    "atten_score = softmax(np.divide(Q.dot(K.transpose()), d_k), axis=1)\n",
    "print(atten_score)"
   ]
  },
  {
   "cell_type": "markdown",
   "id": "e29e90b9",
   "metadata": {},
   "source": [
    "We finally calculate attention by getting the dot product of our softmax output to our value matrix"
   ]
  },
  {
   "cell_type": "code",
   "execution_count": 13,
   "id": "bb7a5735",
   "metadata": {},
   "outputs": [
    {
     "name": "stdout",
     "output_type": "stream",
     "text": [
      "[[ 0.00786155 -0.05506254  0.1471287 ]\n",
      " [ 0.01309607 -0.06021495  0.1463998 ]\n",
      " [ 0.00969588 -0.05686715  0.14692736]]\n"
     ]
    }
   ],
   "source": [
    "atten = atten_score.dot(V)\n",
    "print(atten)"
   ]
  },
  {
   "cell_type": "markdown",
   "id": "cd0c937d",
   "metadata": {},
   "source": [
    "It's easier to visualize this by plotting it in a heatmap.\n",
    "\n",
    "_**NOTE:**_ Install seaborn package using `pip install seaborn`\n",
    "\n",
    "The numbers `[0, 1, 2]` in our axes refers to each word in our sentence `[word_1, word_2, word_3]`, and you can consider the value on each cell as a score or weight of \"how much attention\" the model gives to other words for each word (including itself)."
   ]
  },
  {
   "cell_type": "code",
   "execution_count": 14,
   "id": "593648ee",
   "metadata": {},
   "outputs": [
    {
     "data": {
      "image/png": "[encoded data removed]",
      "text/plain": [
       "<Figure size 432x288 with 2 Axes>"
      ]
     },
     "metadata": {
      "needs_background": "light"
     },
     "output_type": "display_data"
    }
   ],
   "source": [
    "import seaborn as sns\n",
    "htmp = sns.heatmap(atten, annot=True, cmap=sns.light_palette(\"orange\", as_cmap=True))"
   ]
  },
  {
   "cell_type": "markdown",
   "id": "060dce9a",
   "metadata": {},
   "source": [
    "### Notes on Other Common Numpy Functions"
   ]
  },
  {
   "cell_type": "markdown",
   "id": "13ec58bb",
   "metadata": {},
   "source": [
    "Below are some numpy functions that you might want to familiarize with, as you will most likely use or encounter them later on."
   ]
  },
  {
   "cell_type": "markdown",
   "id": "33799996",
   "metadata": {},
   "source": [
    "**1. `np.squeeze`, and `np.expand_dims`**\n",
    "\n",
    "Neural models usually require inputs (or output tensors) of shape `(N, C, H, W)`, where _N_ is batch size, _C_ is channels, _H_ is height of input, and _W_ is the width. Hence, to view a 4-dim tensor of an image (for example, with _N_=1) in 3-dim numpy would require the use of `np.squeeze`. `np.expand_dims` is its opposite."
   ]
  },
  {
   "cell_type": "code",
   "execution_count": 15,
   "id": "bb98b3e8",
   "metadata": {},
   "outputs": [
    {
     "name": "stdout",
     "output_type": "stream",
     "text": [
      "Original image shape: (293, 480, 3)\n",
      "Expanded image at axis=0: (1, 293, 480, 3)\n",
      "Squeezed image: (293, 480, 3)\n"
     ]
    }
   ],
   "source": [
    "from PIL import Image\n",
    "image = Image.open('data/car.jpg')\n",
    "image = np.array(image)\n",
    "\n",
    "print(\"Original image shape: {}\".format(image.shape))\n",
    "image = np.expand_dims(image, axis=0)\n",
    "print(\"Expanded image at axis=0: {}\".format(image.shape))\n",
    "image = image.squeeze()\n",
    "print(\"Squeezed image: {}\".format(image.shape))"
   ]
  },
  {
   "cell_type": "markdown",
   "id": "2093516d",
   "metadata": {},
   "source": [
    "**2. `np.transpose` vs `np.reshape`**\n",
    "\n",
    "`np.transpose` permutes axes of an array."
   ]
  },
  {
   "cell_type": "code",
   "execution_count": 16,
   "id": "575d2c0d",
   "metadata": {},
   "outputs": [
    {
     "name": "stdout",
     "output_type": "stream",
     "text": [
      "PIL Image: (293, 480, 3)\n",
      "Simulated tensor: (1, 3, 293, 480)\n"
     ]
    }
   ],
   "source": [
    "image = Image.open('data/car.jpg') # PIL: (H, W, C)\n",
    "image = np.array(image)\n",
    "print(\"PIL Image: {}\".format(image.shape))\n",
    "\n",
    "image = np.expand_dims(image.transpose(2,0,1), axis=0)\n",
    "print(\"Simulated tensor: {}\".format(image.shape))"
   ]
  },
  {
   "cell_type": "markdown",
   "id": "d583c111",
   "metadata": {},
   "source": [
    "`np.reshape` reshapes the array to a potentially new dimension, while retaining the original data within the array."
   ]
  },
  {
   "cell_type": "code",
   "execution_count": 17,
   "id": "a9d9cac5",
   "metadata": {},
   "outputs": [
    {
     "name": "stdout",
     "output_type": "stream",
     "text": [
      "PIL Image: (293, 480, 3)\n",
      "Reshaped image: (210960, 2)\n"
     ]
    }
   ],
   "source": [
    "image = Image.open('data/car.jpg') # PIL: (H, W, C)\n",
    "image = np.array(image)\n",
    "print(\"PIL Image: {}\".format(image.shape))\n",
    "\n",
    "h, w, c = image.shape\n",
    "image = image.reshape((int(h*w*c/2),2))\n",
    "print(\"Reshaped image: {}\".format(image.shape))"
   ]
  },
  {
   "cell_type": "markdown",
   "id": "7189c043",
   "metadata": {},
   "source": [
    "**3. `np.concatenate`, `np.vstack`, and `np.hstack`**\n",
    "\n",
    "`np.concatenate` combines arrays along a specified axis."
   ]
  },
  {
   "cell_type": "code",
   "execution_count": 18,
   "id": "629e407d",
   "metadata": {},
   "outputs": [
    {
     "name": "stdout",
     "output_type": "stream",
     "text": [
      "[[0 1]\n",
      " [2 3]\n",
      " [4 5]]\n",
      "[[0 1 4]\n",
      " [2 3 5]]\n"
     ]
    }
   ],
   "source": [
    "a1 = np.array([[0, 1],[2, 3]])\n",
    "a2 = np.array([[4, 5]])\n",
    "\n",
    "print(np.concatenate((a1, a2), axis=0))\n",
    "print(np.concatenate((a1, a2.transpose()), axis=1))"
   ]
  },
  {
   "cell_type": "markdown",
   "id": "c53f6219",
   "metadata": {},
   "source": [
    "`np.vstack` combines (\"stacks\") array row-wise. It's similar to concatenating along `axis=0`"
   ]
  },
  {
   "cell_type": "code",
   "execution_count": 19,
   "id": "9f617ebd",
   "metadata": {},
   "outputs": [
    {
     "name": "stdout",
     "output_type": "stream",
     "text": [
      "[[0 1]\n",
      " [2 3]\n",
      " [4 5]]\n"
     ]
    }
   ],
   "source": [
    "a1 = np.array([[0, 1],[2, 3]])\n",
    "a2 = np.array([[4, 5]])\n",
    "\n",
    "print(np.vstack((a1, a2)))"
   ]
  },
  {
   "cell_type": "markdown",
   "id": "00cc968f",
   "metadata": {},
   "source": [
    "`np.hstack` combines (\"stacks\") array row-wise. It's similar to concatenating along `axis=1`"
   ]
  },
  {
   "cell_type": "code",
   "execution_count": 20,
   "id": "aef3e1e1",
   "metadata": {},
   "outputs": [
    {
     "name": "stdout",
     "output_type": "stream",
     "text": [
      "[[0 1 4]\n",
      " [2 3 5]]\n"
     ]
    }
   ],
   "source": [
    "a1 = np.array([[0, 1],[2, 3]])\n",
    "a2 = np.array([[4, 5]])\n",
    "\n",
    "print(np.hstack((a1, a2.transpose())))"
   ]
  },
  {
   "cell_type": "markdown",
   "id": "3e907406",
   "metadata": {},
   "source": [
    "**4. `np.flatten` vs `np.ravel`**\n",
    "\n",
    "`np.flatten` collapses the array into 1-dim. `np.ravel` is similar to flatten, except doesn't necessarily have to be a numpy array"
   ]
  },
  {
   "cell_type": "code",
   "execution_count": 21,
   "id": "e9562c8e",
   "metadata": {},
   "outputs": [
    {
     "name": "stdout",
     "output_type": "stream",
     "text": [
      "[0 1 2 3]\n"
     ]
    }
   ],
   "source": [
    "a1 = np.array([[0, 1],[2, 3]])\n",
    "print(a1.flatten())"
   ]
  },
  {
   "cell_type": "markdown",
   "id": "fa4eac8e",
   "metadata": {},
   "source": [
    "**5. A note on `np.copy`**\n",
    "\n",
    "If you wish to copy initial values of an array to another, please consider using `np.copy` instead. Otherwise, any changes to your new array will also be reflected on the old one."
   ]
  },
  {
   "cell_type": "code",
   "execution_count": 22,
   "id": "05fbc253",
   "metadata": {},
   "outputs": [
    {
     "name": "stdout",
     "output_type": "stream",
     "text": [
      "a1 = \n",
      "[[0 1]\n",
      " [2 3]]\n",
      "\n",
      "a2 = \n",
      "[[0 1]\n",
      " [2 3]]\n",
      "\n",
      "After copying:\n",
      "\n",
      "a1 = \n",
      "[[0 1]\n",
      " [5 6]]\n",
      "\n",
      "a2 = \n",
      "[[0 1]\n",
      " [5 6]]\n"
     ]
    }
   ],
   "source": [
    "# Without using np.copy()\n",
    "a1 = np.array([[0, 1],[2, 3]])\n",
    "a2 = a1\n",
    "print(\"a1 = \\n{}\\n\\na2 = \\n{}\".format(a1,a2))\n",
    "\n",
    "a2[1,:] = np.array([5, 6])\n",
    "print(\"\\nAfter copying:\\n\")\n",
    "print(\"a1 = \\n{}\\n\\na2 = \\n{}\".format(a1,a2))"
   ]
  },
  {
   "cell_type": "code",
   "execution_count": 23,
   "id": "a42f7e02",
   "metadata": {},
   "outputs": [
    {
     "name": "stdout",
     "output_type": "stream",
     "text": [
      "a1 = \n",
      "[[0 1]\n",
      " [2 3]]\n",
      "\n",
      "a2 = \n",
      "[[0 1]\n",
      " [2 3]]\n",
      "\n",
      "After copying:\n",
      "\n",
      "a1 = \n",
      "[[0 1]\n",
      " [2 3]]\n",
      "\n",
      "a2 = \n",
      "[[0 1]\n",
      " [5 6]]\n"
     ]
    }
   ],
   "source": [
    "# Using np.copy()\n",
    "a1 = np.array([[0, 1],[2, 3]])\n",
    "a2 = a1.copy()\n",
    "print(\"a1 = \\n{}\\n\\na2 = \\n{}\".format(a1,a2))\n",
    "\n",
    "a2[1,:] = np.array([5, 6])\n",
    "print(\"\\nAfter copying:\\n\")\n",
    "print(\"a1 = \\n{}\\n\\na2 = \\n{}\".format(a1,a2))"
   ]
  }
 ],
 "metadata": {
  "kernelspec": {
   "display_name": "dl_course",
   "language": "python",
   "name": "dl_course"
  },
  "language_info": {
   "codemirror_mode": {
    "name": "ipython",
    "version": 3
   },
   "file_extension": ".py",
   "mimetype": "text/x-python",
   "name": "python",
   "nbconvert_exporter": "python",
   "pygments_lexer": "ipython3",
   "version": "3.9.7"
  }
 },
 "nbformat": 4,
 "nbformat_minor": 5
}
