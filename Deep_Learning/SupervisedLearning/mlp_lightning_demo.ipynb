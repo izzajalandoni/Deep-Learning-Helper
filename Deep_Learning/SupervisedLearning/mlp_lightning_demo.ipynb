{
 "cells": [
  {
   "cell_type": "markdown",
   "id": "280eb483",
   "metadata": {},
   "source": [
    "## Pytorch Lightning MLP Demo"
   ]
  },
  {
   "cell_type": "markdown",
   "id": "d3b78f6c",
   "metadata": {},
   "source": [
    "We demonstrate the Multilayer Preceptron (MLP). Nearly a duplicate to our MLP demo [here](https://github.com/izzajalandoni/Deep-Learning-Helper/blob/main/BuildingBlocks/mlp_demo.ipynb), except we will be utilizing Pytorch Lightning for training."
   ]
  },
  {
   "cell_type": "code",
   "execution_count": 1,
   "id": "05d9d0b5",
   "metadata": {},
   "outputs": [],
   "source": [
    "import warnings\n",
    "warnings.filterwarnings('ignore')"
   ]
  },
  {
   "cell_type": "markdown",
   "id": "1588c098",
   "metadata": {},
   "source": [
    "### Preparing our Dataset\n",
    "\n",
    "We use the same cifar10 dataset we used in our Hugging Face datasets demo."
   ]
  },
  {
   "cell_type": "code",
   "execution_count": 2,
   "id": "087c063b",
   "metadata": {
    "scrolled": true
   },
   "outputs": [
    {
     "name": "stderr",
     "output_type": "stream",
     "text": [
      "Reusing dataset cifar10 (/home/izza/.cache/huggingface/datasets/cifar10/plain_text/1.0.0/447d6ec4733dddd1ce3bb577c7166b986eaa4c538dcd9e805ba61f35674a9de4)\n",
      "Reusing dataset cifar10 (/home/izza/.cache/huggingface/datasets/cifar10/plain_text/1.0.0/447d6ec4733dddd1ce3bb577c7166b986eaa4c538dcd9e805ba61f35674a9de4)\n"
     ]
    }
   ],
   "source": [
    "import datasets\n",
    "\n",
    "trainset = datasets.load_dataset('cifar10', split='train')\n",
    "testset = datasets.load_dataset('cifar10', split='test')"
   ]
  },
  {
   "cell_type": "markdown",
   "id": "3737cc32",
   "metadata": {},
   "source": [
    "Preprocess our input before passing them to our dataloader.\n",
    "\n",
    "**Note:** Unlike the previous demo, we do not remove `label` because we need this as ground truth during training. We simply transform our PIL image to tensor."
   ]
  },
  {
   "cell_type": "code",
   "execution_count": 3,
   "id": "e7453eb3",
   "metadata": {},
   "outputs": [],
   "source": [
    "from torchvision import transforms\n",
    "\n",
    "transform = transforms.Compose([\n",
    "    transforms.ToTensor()\n",
    "])\n",
    "\n",
    "def transform_input(data):\n",
    "    data['img'] = [transform(image.convert('RGB')) for image in data['img']]\n",
    "    return data"
   ]
  },
  {
   "cell_type": "code",
   "execution_count": 4,
   "id": "cacd57b4",
   "metadata": {},
   "outputs": [],
   "source": [
    "trainset.set_transform(transform=transform_input)\n",
    "testset.set_transform(transform=transform_input)"
   ]
  },
  {
   "cell_type": "code",
   "execution_count": 5,
   "id": "07a76e76",
   "metadata": {},
   "outputs": [
    {
     "data": {
      "text/plain": [
       "{'img': tensor([[[0.6980, 0.6980, 0.6980,  ..., 0.6667, 0.6588, 0.6471],\n",
       "          [0.7059, 0.7020, 0.7059,  ..., 0.6784, 0.6706, 0.6588],\n",
       "          [0.6941, 0.6941, 0.6980,  ..., 0.6706, 0.6627, 0.6549],\n",
       "          ...,\n",
       "          [0.4392, 0.4431, 0.4471,  ..., 0.3922, 0.3843, 0.3961],\n",
       "          [0.4392, 0.4392, 0.4431,  ..., 0.4000, 0.4000, 0.4000],\n",
       "          [0.4039, 0.3922, 0.4039,  ..., 0.3608, 0.3647, 0.3569]],\n",
       " \n",
       "         [[0.6902, 0.6902, 0.6902,  ..., 0.6588, 0.6510, 0.6392],\n",
       "          [0.6980, 0.6941, 0.6980,  ..., 0.6706, 0.6627, 0.6510],\n",
       "          [0.6863, 0.6863, 0.6902,  ..., 0.6627, 0.6549, 0.6471],\n",
       "          ...,\n",
       "          [0.4196, 0.4275, 0.4314,  ..., 0.3804, 0.3686, 0.3725],\n",
       "          [0.4000, 0.4039, 0.4039,  ..., 0.3725, 0.3647, 0.3608],\n",
       "          [0.3765, 0.3647, 0.3725,  ..., 0.3294, 0.3373, 0.3294]],\n",
       " \n",
       "         [[0.7412, 0.7412, 0.7412,  ..., 0.7059, 0.6941, 0.6824],\n",
       "          [0.7490, 0.7451, 0.7490,  ..., 0.7137, 0.7059, 0.6941],\n",
       "          [0.7373, 0.7373, 0.7412,  ..., 0.7059, 0.6980, 0.6902],\n",
       "          ...,\n",
       "          [0.4196, 0.4235, 0.4314,  ..., 0.3686, 0.3647, 0.3725],\n",
       "          [0.3961, 0.4000, 0.4039,  ..., 0.3647, 0.3569, 0.3569],\n",
       "          [0.3608, 0.3529, 0.3686,  ..., 0.3137, 0.3137, 0.3020]]]),\n",
       " 'label': 0}"
      ]
     },
     "execution_count": 5,
     "metadata": {},
     "output_type": "execute_result"
    }
   ],
   "source": [
    "trainset[0]"
   ]
  },
  {
   "cell_type": "markdown",
   "id": "9453d069",
   "metadata": {},
   "source": [
    "Pass our data to torch DataLoader() function."
   ]
  },
  {
   "cell_type": "code",
   "execution_count": 6,
   "id": "e58e117e",
   "metadata": {},
   "outputs": [],
   "source": [
    "import torch\n",
    "\n",
    "trainloader = torch.utils.data.DataLoader(trainset, batch_size=4)\n",
    "testloader = torch.utils.data.DataLoader(testset, batch_size=4)"
   ]
  },
  {
   "cell_type": "code",
   "execution_count": 7,
   "id": "c8ba6886",
   "metadata": {
    "scrolled": true
   },
   "outputs": [
    {
     "name": "stdout",
     "output_type": "stream",
     "text": [
      "torch.Size([4, 3, 32, 32])\n"
     ]
    }
   ],
   "source": [
    "batch = next(iter(testloader))\n",
    "print(batch['img'].shape)"
   ]
  },
  {
   "cell_type": "markdown",
   "id": "c15eedfd",
   "metadata": {},
   "source": [
    "### Utility Functions\n",
    "\n",
    "Display function, accuracy calculation that we might use later."
   ]
  },
  {
   "cell_type": "code",
   "execution_count": 8,
   "id": "a733f616",
   "metadata": {},
   "outputs": [],
   "source": [
    "import matplotlib.pyplot as plt\n",
    "\n",
    "labels = {0:\"airplane\", 1:\"automobile\", 2:\"bird\", 3:\"cat\", 4:\"deer\",\n",
    "          5:\"dog\", 6:\"frog\", 7:\"horse\", 8:\"ship\", 9:\"truck\"}\n",
    "\n",
    "def display_outputs(x, y_p, y):\n",
    "    num_outputs = x.shape[0]\n",
    "    y_p = torch.argmax(y_p, dim=1)\n",
    "    \n",
    "    for i in range(num_outputs):\n",
    "        image = x[i].permute((1,2,0))\n",
    "        plt.imshow(image)\n",
    "        plt.show()\n",
    "        print(\"Ground Truth: {}[{}], Predicted: {}[{}]\".format(\n",
    "            labels[y[i].item()], y[i], labels[y_p[i].item()], y_p[i]))\n",
    "        \n",
    "def accuracy(y_p, y):\n",
    "    y_p = torch.argmax(y_p, dim=1) # We get top class\n",
    "    acc = y_p.eq(y).sum()          # Compare it with ground truth\n",
    "    acc = acc/y.shape[0]           # Get acc for the batch\n",
    "    return acc"
   ]
  },
  {
   "cell_type": "markdown",
   "id": "0ad451f0",
   "metadata": {},
   "source": [
    "### Preparing our Model\n",
    "\n",
    "We create our MLP model. We will use Pytorch Lightning for this.\n",
    "\n",
    "Learn more about NN building blocks [here](https://pytorch.org/docs/stable/nn.html). Notes on pytorch lightning callbacks [here](https://pytorch-lightning.readthedocs.io/en/stable/api/pytorch_lightning.callbacks.Callback.html)."
   ]
  },
  {
   "cell_type": "code",
   "execution_count": 9,
   "id": "2c896d5e",
   "metadata": {},
   "outputs": [],
   "source": [
    "import pytorch_lightning as pl\n",
    "import torch.nn as nn\n",
    "import torchmetrics as tm\n",
    "\n",
    "class MLP(pl.LightningModule):\n",
    "    def __init__(self, input_dim, num_class):\n",
    "        super().__init__()\n",
    "        self.input_dim = input_dim\n",
    "        self.num_class = num_class\n",
    "        \n",
    "        self.fc1 = nn.Linear(self.input_dim, 128)\n",
    "        self.fc2 = nn.Linear(128,64)\n",
    "        self.fc3 = nn.Linear(64, self.num_class)\n",
    "        self.relu = nn.ReLU()\n",
    "        self.criterion = nn.CrossEntropyLoss()\n",
    "        \n",
    "    def forward(self, x):\n",
    "        x = x.view(x.shape[0], -1)\n",
    "        x = self.relu(self.fc1(x))\n",
    "        x = self.relu(self.fc2(x))\n",
    "        return self.fc3(x)\n",
    "    \n",
    "    def display(self, x, y_p, y):\n",
    "        num_outputs = x.shape[0]\n",
    "        y_p = torch.argmax(y_p, dim=1)\n",
    "\n",
    "        for i in range(num_outputs):\n",
    "            image = x[i].permute((1,2,0))\n",
    "            plt.imshow(image)\n",
    "            plt.show()\n",
    "            print(\"Ground Truth: {}[{}], Predicted: {}[{}]\".format(\n",
    "                labels[y[i].item()], y[i], labels[y_p[i].item()], y_p[i]))\n",
    "    \n",
    "    def training_step(self, batch, batch_idx):\n",
    "        x,y = batch['img'], batch['label']\n",
    "        y_p = self.forward(x)\n",
    "        loss = self.criterion(y_p, y)\n",
    "        \n",
    "        # Since this is per batch, we can sum correct predictions first\n",
    "        acc = torch.argmax(y_p, dim=1).eq(y).sum()\n",
    "        acc = acc/y.shape[0]\n",
    "        \n",
    "        return {\"loss\": loss, \"acc\": acc}\n",
    "    \n",
    "    def training_epoch_end(self, outputs):\n",
    "        epoch_loss = torch.stack([out['loss'] for out in outputs]).mean()\n",
    "        epoch_acc = torch.stack([out['acc'] for out in outputs]).mean()\n",
    "        \n",
    "        print(\"Epoch {}, Loss: {}, Accuracy: {}\".format(self.current_epoch, epoch_loss, epoch_acc))\n",
    "    \n",
    "    def test_step(self, batch, batch_idx):\n",
    "        x,y = batch['img'], batch['label']\n",
    "        y_p = self.forward(x)\n",
    "        \n",
    "        if batch_idx == 0:\n",
    "            self.display(x, y_p, y)\n",
    "        \n",
    "        # Calculate accuracy\n",
    "        acc = torch.argmax(y_p, dim=1).eq(y).sum()\n",
    "        acc = acc/y.shape[0]\n",
    "        return {\"acc\": acc}\n",
    "    \n",
    "    def test_epoch_end(self, outputs):\n",
    "        test_acc = torch.stack([out['acc'] for out in outputs]).mean()\n",
    "        print(\"Test Accuracy: {}\".format(test_acc))\n",
    "    \n",
    "    def configure_optimizers(self):\n",
    "        return torch.optim.Adam(self.parameters())"
   ]
  },
  {
   "cell_type": "markdown",
   "id": "0b656738",
   "metadata": {},
   "source": [
    "### Main Program\n",
    "\n",
    "We need to get some details about our data that we will use for our model configs."
   ]
  },
  {
   "cell_type": "code",
   "execution_count": 10,
   "id": "1170a489",
   "metadata": {},
   "outputs": [
    {
     "name": "stdout",
     "output_type": "stream",
     "text": [
      "input size: 3072, num_class: 10\n"
     ]
    }
   ],
   "source": [
    "import numpy as np\n",
    "\n",
    "b,c,h,w = batch['img'].shape\n",
    "input_dim = c*h*w\n",
    "num_class = len(np.unique(testset[:]['label']))\n",
    "\n",
    "print(\"input size: {}, num_class: {}\".format(input_dim, num_class))"
   ]
  },
  {
   "cell_type": "markdown",
   "id": "a5b8ef70",
   "metadata": {},
   "source": [
    "With pytorch lightning, our main code becomes cleaner."
   ]
  },
  {
   "cell_type": "code",
   "execution_count": 11,
   "id": "f8bb190a",
   "metadata": {},
   "outputs": [
    {
     "name": "stderr",
     "output_type": "stream",
     "text": [
      "GPU available: False, used: False\n",
      "TPU available: False, using: 0 TPU cores\n",
      "IPU available: False, using: 0 IPUs\n",
      "HPU available: False, using: 0 HPUs\n",
      "\n",
      "  | Name      | Type             | Params\n",
      "-----------------------------------------------\n",
      "0 | fc1       | Linear           | 393 K \n",
      "1 | fc2       | Linear           | 8.3 K \n",
      "2 | fc3       | Linear           | 650   \n",
      "3 | relu      | ReLU             | 0     \n",
      "4 | criterion | CrossEntropyLoss | 0     \n",
      "-----------------------------------------------\n",
      "402 K     Trainable params\n",
      "0         Non-trainable params\n",
      "402 K     Total params\n",
      "1.609     Total estimated model params size (MB)\n"
     ]
    },
    {
     "data": {
      "application/vnd.jupyter.widget-view+json": {
       "model_id": "278c3adfc5ff42c28c7cde335b29b9d0",
       "version_major": 2,
       "version_minor": 0
      },
      "text/plain": [
       "Training: 0it [00:00, ?it/s]"
      ]
     },
     "metadata": {},
     "output_type": "display_data"
    },
    {
     "name": "stdout",
     "output_type": "stream",
     "text": [
      "Epoch 0, Loss: 1.8849409818649292, Accuracy: 0.3097600042819977\n",
      "Epoch 1, Loss: 1.7790148258209229, Accuracy: 0.35468000173568726\n",
      "Epoch 2, Loss: 1.7473351955413818, Accuracy: 0.36381998658180237\n",
      "Epoch 3, Loss: 1.7267974615097046, Accuracy: 0.37327998876571655\n",
      "Epoch 4, Loss: 1.712096095085144, Accuracy: 0.3776000142097473\n"
     ]
    }
   ],
   "source": [
    "num_epochs = 5\n",
    "\n",
    "model = MLP(input_dim, num_class)\n",
    "trainer = pl.Trainer(devices=\"auto\", accelerator=\"auto\",\n",
    "                    max_epochs=num_epochs)\n",
    "trainer.fit(model, trainloader)"
   ]
  },
  {
   "cell_type": "code",
   "execution_count": 12,
   "id": "55f6d555",
   "metadata": {},
   "outputs": [
    {
     "data": {
      "application/vnd.jupyter.widget-view+json": {
       "model_id": "fb4ecc4fabea4228b989eb6a6452ddcb",
       "version_major": 2,
       "version_minor": 0
      },
      "text/plain": [
       "Testing: 0it [00:00, ?it/s]"
      ]
     },
     "metadata": {},
     "output_type": "display_data"
    },
    {
     "data": {
      "image/png": "[encoded data removed]",
      "text/plain": [
       "<Figure size 432x288 with 1 Axes>"
      ]
     },
     "metadata": {
      "needs_background": "light"
     },
     "output_type": "display_data"
    },
    {
     "name": "stdout",
     "output_type": "stream",
     "text": [
      "Ground Truth: cat[3], Predicted: cat[3]\n"
     ]
    },
    {
     "data": {
      "image/png": "[encoded data removed]",
      "text/plain": [
       "<Figure size 432x288 with 1 Axes>"
      ]
     },
     "metadata": {
      "needs_background": "light"
     },
     "output_type": "display_data"
    },
    {
     "name": "stdout",
     "output_type": "stream",
     "text": [
      "Ground Truth: ship[8], Predicted: ship[8]\n"
     ]
    },
    {
     "data": {
      "image/png": "[encoded data removed]",
      "text/plain": [
       "<Figure size 432x288 with 1 Axes>"
      ]
     },
     "metadata": {
      "needs_background": "light"
     },
     "output_type": "display_data"
    },
    {
     "name": "stdout",
     "output_type": "stream",
     "text": [
      "Ground Truth: ship[8], Predicted: ship[8]\n"
     ]
    },
    {
     "data": {
      "image/png": "[encoded data removed]",
      "text/plain": [
       "<Figure size 432x288 with 1 Axes>"
      ]
     },
     "metadata": {
      "needs_background": "light"
     },
     "output_type": "display_data"
    },
    {
     "name": "stdout",
     "output_type": "stream",
     "text": [
      "Ground Truth: airplane[0], Predicted: ship[8]\n",
      "Test Accuracy: 0.39629998803138733\n"
     ]
    },
    {
     "data": {
      "text/plain": [
       "[{}]"
      ]
     },
     "execution_count": 12,
     "metadata": {},
     "output_type": "execute_result"
    }
   ],
   "source": [
    "trainer.test(model, testloader)"
   ]
  },
  {
   "cell_type": "markdown",
   "id": "1989a149",
   "metadata": {},
   "source": [
    "This is for demo purposes. You may try to improve accuracy by experimenting on different parameters, or increasing training epochs.\n",
    "\n",
    "For more info about pytorch lightning, please visit [this link](https://www.pytorchlightning.ai/)"
   ]
  },
  {
   "cell_type": "code",
   "execution_count": null,
   "id": "39a88bc5",
   "metadata": {},
   "outputs": [],
   "source": []
  }
 ],
 "metadata": {
  "kernelspec": {
   "display_name": "Python 3 (ipykernel)",
   "language": "python",
   "name": "python3"
  },
  "language_info": {
   "codemirror_mode": {
    "name": "ipython",
    "version": 3
   },
   "file_extension": ".py",
   "mimetype": "text/x-python",
   "name": "python",
   "nbconvert_exporter": "python",
   "pygments_lexer": "ipython3",
   "version": "3.8.13"
  }
 },
 "nbformat": 4,
 "nbformat_minor": 5
}
