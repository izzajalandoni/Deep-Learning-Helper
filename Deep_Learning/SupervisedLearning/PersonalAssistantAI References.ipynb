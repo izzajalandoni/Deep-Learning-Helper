{
 "cells": [
  {
   "cell_type": "markdown",
   "id": "ecf68825",
   "metadata": {},
   "source": [
    "1.) Voice Activity Detection Models\n",
    "\n",
    "https://thegradient.pub/one-voice-detector-to-rule-them-all/"
   ]
  },
  {
   "cell_type": "markdown",
   "id": "8bcf28a0",
   "metadata": {},
   "source": [
    "2.) Automatic Speech Recognition Models\n",
    "\n",
    "https://paperswithcode.com/task/automatic-speech-recognition\n",
    "\n",
    "https://www.researchgate.net/publication/351392085_Automatic_Speech_Recognition_A_Comprehensive_Survey"
   ]
  },
  {
   "cell_type": "markdown",
   "id": "3392a1fb",
   "metadata": {},
   "source": [
    "3.) LLM\n",
    "\n",
    "https://www.kdnuggets.com/2022/09/john-snow-top-open-source-large-language-models.html\n",
    "\n",
    "https://arxiv.org/pdf/2111.01243.pdf"
   ]
  },
  {
   "cell_type": "markdown",
   "id": "2e6a427c",
   "metadata": {},
   "source": [
    "4.) Text-to-Speech\n",
    "\n",
    "https://paperswithcode.com/task/text-to-speech-synthesis"
   ]
  }
 ],
 "metadata": {
  "kernelspec": {
   "display_name": "Python [conda env:torch110py3] *",
   "language": "python",
   "name": "conda-env-torch110py3-py"
  },
  "language_info": {
   "codemirror_mode": {
    "name": "ipython",
    "version": 3
   },
   "file_extension": ".py",
   "mimetype": "text/x-python",
   "name": "python",
   "nbconvert_exporter": "python",
   "pygments_lexer": "ipython3",
   "version": "3.8.13"
  }
 },
 "nbformat": 4,
 "nbformat_minor": 5
}
