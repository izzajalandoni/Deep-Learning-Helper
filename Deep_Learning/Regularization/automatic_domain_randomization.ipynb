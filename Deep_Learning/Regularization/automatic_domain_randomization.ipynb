{
 "cells": [
  {
   "cell_type": "markdown",
   "id": "86d4a6ea",
   "metadata": {},
   "source": [
    "Source code: https://github.com/matwilso/domrand\n",
    "\n",
    "Paper:\n",
    "https://arxiv.org/pdf/1910.07113.pdf\n",
    "\n",
    "https://arxiv.org/pdf/1710.06425.pdf"
   ]
  },
  {
   "cell_type": "code",
   "execution_count": null,
   "id": "51ae40ab",
   "metadata": {},
   "outputs": [],
   "source": []
  }
 ],
 "metadata": {
  "kernelspec": {
   "display_name": "Python [conda env:torch110py3] *",
   "language": "python",
   "name": "conda-env-torch110py3-py"
  },
  "language_info": {
   "codemirror_mode": {
    "name": "ipython",
    "version": 3
   },
   "file_extension": ".py",
   "mimetype": "text/x-python",
   "name": "python",
   "nbconvert_exporter": "python",
   "pygments_lexer": "ipython3",
   "version": "3.8.13"
  }
 },
 "nbformat": 4,
 "nbformat_minor": 5
}
