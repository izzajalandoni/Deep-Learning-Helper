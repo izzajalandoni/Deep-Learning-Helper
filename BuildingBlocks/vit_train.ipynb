{
 "cells": [
  {
   "cell_type": "markdown",
   "id": "b8636cad",
   "metadata": {},
   "source": [
    "**Transformer Tutorials:**\n",
    "\n",
    "Part1: https://towardsdatascience.com/transformers-explained-visually-part-1-overview-of-functionality-95a6dd460452\n",
    "\n",
    "Part2: https://towardsdatascience.com/transformers-explained-visually-part-2-how-it-works-step-by-step-b49fa4a64f34\n",
    "\n",
    "Part3: https://towardsdatascience.com/transformers-explained-visually-part-3-multi-head-attention-deep-dive-1c1ff1024853\n",
    "\n",
    "Part4: https://towardsdatascience.com/transformers-explained-visually-not-just-how-but-why-they-work-so-well-d840bd61a9d3"
   ]
  },
  {
   "cell_type": "markdown",
   "id": "602b623d",
   "metadata": {},
   "source": [
    "**Simple Transformer Training using a Kaggle Competition Notebook (using timm package):**\n",
    "\n",
    "https://www.kaggle.com/code/abhinand05/vision-transformer-vit-tutorial-baseline/notebook"
   ]
  },
  {
   "cell_type": "markdown",
   "id": "11a448c5",
   "metadata": {},
   "source": [
    "**Paper about a Survey on Vision Transformer Architectures:**\n",
    "    \n",
    "https://arxiv.org/pdf/2012.12556.pdf"
   ]
  }
 ],
 "metadata": {
  "kernelspec": {
   "display_name": "Python [conda env:torch17py3] *",
   "language": "python",
   "name": "conda-env-torch17py3-py"
  },
  "language_info": {
   "codemirror_mode": {
    "name": "ipython",
    "version": 3
   },
   "file_extension": ".py",
   "mimetype": "text/x-python",
   "name": "python",
   "nbconvert_exporter": "python",
   "pygments_lexer": "ipython3",
   "version": "3.7.13"
  }
 },
 "nbformat": 4,
 "nbformat_minor": 5
}
