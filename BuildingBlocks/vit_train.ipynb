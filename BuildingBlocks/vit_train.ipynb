{
 "cells": [
  {
   "cell_type": "markdown",
   "id": "b8636cad",
   "metadata": {},
   "source": [
    "**Transformer Tutorials:**\n",
    "\n",
    "Part1: https://towardsdatascience.com/transformers-explained-visually-part-1-overview-of-functionality-95a6dd460452\n",
    "\n",
    "Part2: https://towardsdatascience.com/transformers-explained-visually-part-2-how-it-works-step-by-step-b49fa4a64f34\n",
    "\n",
    "Part3: https://towardsdatascience.com/transformers-explained-visually-part-3-multi-head-attention-deep-dive-1c1ff1024853\n",
    "\n",
    "Part4: https://towardsdatascience.com/transformers-explained-visually-not-just-how-but-why-they-work-so-well-d840bd61a9d3"
   ]
  },
  {
   "cell_type": "markdown",
   "id": "602b623d",
   "metadata": {},
   "source": [
    "**Simple Transformer Training using a Kaggle Competition Notebook (using timm package):**\n",
    "\n",
    "https://www.kaggle.com/code/abhinand05/vision-transformer-vit-tutorial-baseline/notebook"
   ]
  },
  {
   "cell_type": "markdown",
   "id": "b37a75c2",
   "metadata": {},
   "source": [
    "**VIT Transformer Positional Embedding Visualization**\n",
    "\n",
    "https://colab.research.google.com/github/hirotomusiker/schwert_colab_data_storage/blob/master/notebook/Vision_Transformer_Tutorial.ipynb"
   ]
  },
  {
   "cell_type": "markdown",
   "id": "11a448c5",
   "metadata": {},
   "source": [
    "**Paper about a Survey on Vision Transformer Architectures:**\n",
    "    \n",
    "https://arxiv.org/pdf/2012.12556.pdf"
   ]
  },
  {
   "cell_type": "markdown",
   "id": "c11f0df6",
   "metadata": {},
   "source": [
    "**Keyword Spotting Problem**\n",
    "\n",
    "![alt text](keywordSpotting.png \"Keyword Spotting\")"
   ]
  },
  {
   "cell_type": "markdown",
   "id": "99eebd44",
   "metadata": {},
   "source": [
    "**Keyword Spotting Datasets**\n",
    "\n",
    "https://paperswithcode.com/task/keyword-spotting"
   ]
  },
  {
   "cell_type": "markdown",
   "id": "c86d3f90",
   "metadata": {},
   "source": [
    "**Some example of a Vision Transformer integrated into Pytorch Lightning**\n",
    "\n",
    "https://colab.research.google.com/github/PytorchLightning/lightning-tutorials/blob/publication/.notebooks/course_UvA-DL/11-vision-transformer.ipynb#scrollTo=eebbf6fc"
   ]
  },
  {
   "cell_type": "markdown",
   "id": "0ed42d1c",
   "metadata": {},
   "source": [
    "**Pytorch LightningDataModule**\n",
    "\n",
    "https://pytorch-lightning.readthedocs.io/en/stable/extensions/datamodules.html"
   ]
  }
 ],
 "metadata": {
  "kernelspec": {
   "display_name": "Python [conda env:torch17py3] *",
   "language": "python",
   "name": "conda-env-torch17py3-py"
  },
  "language_info": {
   "codemirror_mode": {
    "name": "ipython",
    "version": 3
   },
   "file_extension": ".py",
   "mimetype": "text/x-python",
   "name": "python",
   "nbconvert_exporter": "python",
   "pygments_lexer": "ipython3",
   "version": "3.7.13"
  }
 },
 "nbformat": 4,
 "nbformat_minor": 5
}
