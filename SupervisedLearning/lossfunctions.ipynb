{
 "cells": [
  {
   "cell_type": "code",
   "execution_count": 1,
   "id": "e1ecf32b",
   "metadata": {},
   "outputs": [],
   "source": [
    "import torch \n",
    "import torch.nn as nn"
   ]
  },
  {
   "cell_type": "markdown",
   "id": "06461be3",
   "metadata": {},
   "source": [
    "Source: https://neptune.ai/blog/pytorch-loss-functions"
   ]
  },
  {
   "cell_type": "markdown",
   "id": "be49e4f9",
   "metadata": {},
   "source": [
    "1.) The Mean Absolute Error (MAE), also called L1 Loss, computes the average of the sum of absolute differences between actual values and predicted values.\n",
    "\n",
    "It checks the size of errors in a set of predicted values, without caring about their positive or negative direction. If the absolute values of the errors are not used, then negative values could cancel out the positive values. \n",
    "\n",
    "The Pytorch L1 Loss is expressed as:\n",
    "\n",
    "$ loss(x,y) = |x-y| $\n",
    "\n",
    "$x$ represents the actual value and $y$ the predicted value.\n",
    "\n",
    "When could it be used?\n",
    "\n",
    "Regression problems, especially when the distribution of the target variable has outliers, such as small or big values that are a great distance from the mean value. It is considered to be more robust to outliers."
   ]
  },
  {
   "cell_type": "code",
   "execution_count": 2,
   "id": "0d81b22e",
   "metadata": {},
   "outputs": [
    {
     "name": "stdout",
     "output_type": "stream",
     "text": [
      "pred:  tensor([[-1.2945, -0.9793,  0.9388,  0.7341,  0.2385],\n",
      "        [ 0.4556, -0.7682, -0.6296,  1.4332,  0.2603],\n",
      "        [-0.0606, -1.1480, -0.6337,  1.2655, -0.1755]], requires_grad=True)\n",
      "pred:  torch.Size([3, 5])\n",
      "target:  tensor([[-1.9178,  0.0936, -1.8640,  0.5778,  1.3431],\n",
      "        [ 0.5365,  0.0580, -0.7498, -0.2231, -0.7258],\n",
      "        [-0.8093, -1.4074, -0.5672,  0.8298,  1.5745]])\n",
      "output:  tensor(0.8460, grad_fn=<L1LossBackward>)\n"
     ]
    }
   ],
   "source": [
    "pred = torch.randn(3, 5, requires_grad=True) ### Your model's output.\n",
    "target = torch.randn(3, 5) ### Ground truth data.\n",
    "\n",
    "mae_loss = nn.L1Loss()\n",
    "output = mae_loss(pred, target)\n",
    "output.backward()\n",
    "\n",
    "print('pred: ', pred)\n",
    "print('pred: ', pred.shape)\n",
    "print('target: ', target)\n",
    "print('output: ', output)"
   ]
  },
  {
   "cell_type": "markdown",
   "id": "7b916fa1",
   "metadata": {},
   "source": [
    "2.) The Mean Squared Error (MSE), also called L2 Loss, computes the average of the squared differences between actual values and predicted values.\n",
    "\n",
    "Pytorch MSE Loss always outputs a positive result, regardless of the sign of actual and predicted values. To enhance the accuracy of the model, you should try to reduce the L2 Loss—a perfect value is 0.0. \n",
    "\n",
    "The squaring implies that larger mistakes produce even larger errors than smaller ones. If the classifier is off by 100, the error is 10,000. If it’s off by 0.1, the error is 0.01. This punishes the model for making big mistakes and encourages small mistakes. \n",
    "\n",
    "The Pytorch L2 Loss is expressed as:\n",
    "\n",
    "$ loss(x,y) = (x-y)^2 $\n",
    "\n",
    "$x$ represents the actual value and $y$ the predicted value.\n",
    "\n",
    "When could it be used?\n",
    "\n",
    "MSE is the default loss function for most Pytorch regression problems."
   ]
  },
  {
   "cell_type": "code",
   "execution_count": 3,
   "id": "60bcde27",
   "metadata": {},
   "outputs": [
    {
     "name": "stdout",
     "output_type": "stream",
     "text": [
      "pred:  tensor([[ 0.0189, -1.7377,  2.0789, -1.7834, -0.9745],\n",
      "        [ 0.3906, -0.6228, -0.4909, -0.6360,  2.2362],\n",
      "        [ 0.7486, -0.8435,  0.3453,  0.6671,  0.2115]], requires_grad=True)\n",
      "pred shape:  torch.Size([3, 5])\n",
      "target:  tensor([[ 2.2951,  1.2192,  1.8822, -0.6468,  0.8511],\n",
      "        [-0.5751,  0.5762, -1.6515, -0.0428,  0.4379],\n",
      "        [ 0.1037,  0.0254,  0.1774, -1.8422, -0.8765]])\n",
      "output:  tensor(2.3047, grad_fn=<MseLossBackward>)\n"
     ]
    }
   ],
   "source": [
    "pred = torch.randn(3, 5, requires_grad=True)\n",
    "target = torch.randn(3, 5)\n",
    "mse_loss = nn.MSELoss()\n",
    "output = mse_loss(pred, target)\n",
    "output.backward()\n",
    "\n",
    "print('pred: ', pred)\n",
    "print('pred shape: ', pred.shape)\n",
    "print('target: ', target)\n",
    "print('output: ', output)"
   ]
  },
  {
   "cell_type": "markdown",
   "id": "f29cd5bf",
   "metadata": {},
   "source": [
    "3.) The Negative Log-Likelihood Loss function (NLL) is applied only on models with the softmax function as an output activation layer. Softmax refers to an activation function that calculates the normalized exponential function of every unit in the layer.\n",
    "\n",
    "The Softmax function is expressed as:\n",
    "\n",
    "$S(f_{y_i}) = \\frac{e^{{f_y}_i}}{\\sum_j e^{f_j}}$\n",
    "\n",
    "The function takes an input vector of size N, and then modifies the values such that every one of them falls between 0 and 1. Furthermore, it normalizes the output such that the sum of the N values of the vector equals to 1.\n",
    "\n",
    "NLL uses a negative connotation since the probabilities (or likelihoods) vary between zero and one, and the logarithms of values in this range are negative. In the end, the loss value becomes positive.\n",
    "\n",
    "In NLL, minimizing the loss function assists us get a better output. The negative log likelihood is retrieved from approximating the maximum likelihood estimation (MLE). This means that we try to maximize the model’s log likelihood, and as a result, minimize the NLL.  \n",
    "\n",
    "In NLL, the model is punished for making the correct prediction with smaller probabilities and encouraged for making the prediction with higher probabilities. The logarithm does the punishment. \n",
    "\n",
    "NLL does not only care about the prediction being correct but also about the model being certain about the prediction with a high score. \n",
    "\n",
    "The Pytorch NLL Loss is expressed as:\n",
    "\n",
    "$loss(x,y) = -(\\log y)$\n",
    "\n",
    "$x$ represents the actual value and $y$ the predicted value.\n",
    "\n",
    "When could it be used?\n",
    "\n",
    "Multi-class classification problems"
   ]
  },
  {
   "cell_type": "code",
   "execution_count": 4,
   "id": "65ab9467",
   "metadata": {},
   "outputs": [
    {
     "name": "stdout",
     "output_type": "stream",
     "text": [
      "pred:  tensor([[-0.0292, -0.9729, -0.7304, -0.7146,  0.0328],\n",
      "        [ 0.6267,  0.3892,  0.0301,  0.8372,  0.5156],\n",
      "        [-1.2148,  0.8467, -1.5049, -0.0718, -1.1016]], requires_grad=True)\n",
      "softmax m(pred):  tensor([[0.2896, 0.1127, 0.1436, 0.1459, 0.3081],\n",
      "        [0.2238, 0.1765, 0.1232, 0.2762, 0.2003],\n",
      "        [0.0721, 0.5669, 0.0540, 0.2262, 0.0808]], grad_fn=<SoftmaxBackward>)\n",
      "target:  tensor([1, 0, 4])\n",
      "output:  tensor(-0.1391, grad_fn=<NllLossBackward>)\n"
     ]
    }
   ],
   "source": [
    "# size of input (N x C) is = 3 x 5\n",
    "pred = torch.randn(3, 5, requires_grad=True) ### Your model outputs.\n",
    "# every element in target should have 0 <= value < C\n",
    "target = torch.tensor([1, 0, 4])\n",
    "\n",
    "m = nn.Softmax(dim=1)\n",
    "nll_loss = nn.NLLLoss()\n",
    "print('pred: ', pred)\n",
    "print('softmax m(pred): ', m(pred))\n",
    "output = nll_loss(m(pred), target)\n",
    "output.backward()\n",
    "\n",
    "print('target: ', target)\n",
    "print('output: ', output)"
   ]
  },
  {
   "cell_type": "markdown",
   "id": "d843889d",
   "metadata": {},
   "source": [
    "4.) The Categorical Cross-Entropy Loss Function computes the difference between two probability distributions for a provided set of occurrences or random variables.\n",
    "\n",
    "It is used to work out a score that summarizes the average difference between the predicted values and the actual values. To enhance the accuracy of the model, you should try to minimize the score—the cross-entropy score is between 0 and 1, and a perfect value is 0.\n",
    "\n",
    "Other loss functions, like the squared loss, punish incorrect predictions. Cross-Entropy penalizes greatly for being very confident and wrong.\n",
    "\n",
    "Unlike the Negative Log-Likelihood Loss, which doesn’t punish based on prediction confidence, Cross-Entropy punishes incorrect but confident predictions, as well as correct but less confident predictions. \n",
    "\n",
    "The Cross-Entropy function has a wide range of variants, of which the most common type is the Binary Cross-Entropy (BCE). The BCE Loss is mainly used for binary classification models; that is, models having only 2 classes. \n",
    "\n",
    "The Pytorch Cross-Entropy Loss is expressed as:\n",
    "\n",
    "$loss(x,y) = -\\sum x\\log y$\n",
    "\n",
    "$x$ represents the true label’s probability and $y$ represents the predicted label’s probability. \n",
    "\n",
    "When could it be used?\n",
    "\n",
    "Multi-classification tasks, for which it’s the default loss function in Pytorch.\n",
    "Creating confident models—the prediction will be accurate and with a higher probability."
   ]
  },
  {
   "cell_type": "code",
   "execution_count": 5,
   "id": "0dfad419",
   "metadata": {},
   "outputs": [
    {
     "name": "stdout",
     "output_type": "stream",
     "text": [
      "pred:  tensor([[-0.1320,  1.0339, -0.4413, -0.5441,  0.3423],\n",
      "        [ 0.5538, -1.3564,  2.4803,  1.0512, -0.9188],\n",
      "        [ 0.9145,  0.5419, -0.6539,  0.2397,  0.1197]], requires_grad=True)\n",
      "target:  tensor([3, 1, 4])\n",
      "output:  tensor(2.8114, grad_fn=<NllLossBackward>)\n"
     ]
    }
   ],
   "source": [
    "pred = torch.randn(3, 5, requires_grad=True) ### Your model's prediction. Does not need to be normalized.\n",
    "target = torch.empty(3, dtype=torch.long).random_(5) ### Integer classes (total classes = 5)\n",
    "# target = torch.empty(3, dtype=torch.long).random_(9) ### Invalid number of classes\n",
    "# target = torch.randint(-5, 5, (3,)) ### Negative classes give error\n",
    "# target = torch.randn(3) ### Incorrect ground truth data\n",
    "\n",
    "print('pred: ', pred)\n",
    "print('target: ', target)\n",
    "\n",
    "cross_entropy_loss = nn.CrossEntropyLoss()\n",
    "output = cross_entropy_loss(pred, target)\n",
    "output.backward()\n",
    "\n",
    "print('output: ', output)"
   ]
  },
  {
   "cell_type": "markdown",
   "id": "71227dc9",
   "metadata": {},
   "source": [
    "5.) The Binary Cross Entropy Function computes the loss of only two output outcomes, which is the presence or absence of a feature.\n",
    "\n",
    "The Pytorch Binary Cross-Entropy Loss is expressed as:\n",
    "\n",
    "$BCE(t,p) = -\\frac{1}{N}(t * \\log(p) + (1-t)*\\log(1-p) )$\n",
    "\n",
    "where $t$ is the label (1 and 0) and $p$ is the predicted probability for all N points.\n",
    "\n",
    "Make sure that the target is between 0 and 1. Both the input and target tensors may have any number of dimensions. "
   ]
  },
  {
   "cell_type": "code",
   "execution_count": 6,
   "id": "1873c6f6",
   "metadata": {},
   "outputs": [
    {
     "name": "stdout",
     "output_type": "stream",
     "text": [
      "pred:  tensor([[0.0468, 0.9900, 0.4769, 0.0374, 0.8426],\n",
      "        [0.3913, 0.3969, 0.0800, 0.9929, 0.6627],\n",
      "        [0.2840, 0.1047, 0.5530, 0.0901, 0.7840]], requires_grad=True)\n",
      "target:  tensor([[0.3109, 0.0627, 0.0202, 0.5868, 0.0194],\n",
      "        [0.2090, 0.4250, 0.0419, 0.3018, 0.0224],\n",
      "        [0.2392, 0.2463, 0.1932, 0.1389, 0.1825]])\n"
     ]
    }
   ],
   "source": [
    "loss = nn.BCELoss()\n",
    "pred = torch.rand(3, 5, requires_grad=True) ### Your model output.\n",
    "target = torch.randn(3, 5).softmax(dim=1) ### Grount truth / label.\n",
    "output = loss(pred, target)\n",
    "output.backward()\n",
    "\n",
    "print(\"pred: \", pred)\n",
    "print(\"target: \", target)"
   ]
  },
  {
   "cell_type": "markdown",
   "id": "d6c6743a",
   "metadata": {},
   "source": [
    "Extra: You can also create your own Custom loss function"
   ]
  },
  {
   "cell_type": "code",
   "execution_count": 7,
   "id": "86d9534e",
   "metadata": {},
   "outputs": [],
   "source": [
    "def myCustomLoss(my_outputs, my_labels):\n",
    "    #specifying the batch size\n",
    "    my_batch_size = my_outputs.size()[0] \n",
    "    #calculating the log of softmax values           \n",
    "    my_outputs = F.log_softmax(my_outputs, dim=1)  \n",
    "    #selecting the values that correspond to labels\n",
    "    my_outputs = my_outputs[range(my_batch_size), my_labels] \n",
    "    #returning the results\n",
    "    return -torch.sum(my_outputs)/number_examples"
   ]
  },
  {
   "cell_type": "code",
   "execution_count": null,
   "id": "b636be30",
   "metadata": {},
   "outputs": [],
   "source": []
  }
 ],
 "metadata": {
  "kernelspec": {
   "display_name": "Python [conda env:torch17py3] *",
   "language": "python",
   "name": "conda-env-torch17py3-py"
  },
  "language_info": {
   "codemirror_mode": {
    "name": "ipython",
    "version": 3
   },
   "file_extension": ".py",
   "mimetype": "text/x-python",
   "name": "python",
   "nbconvert_exporter": "python",
   "pygments_lexer": "ipython3",
   "version": "3.7.13"
  }
 },
 "nbformat": 4,
 "nbformat_minor": 5
}
