{
 "cells": [
  {
   "cell_type": "markdown",
   "id": "1b2dd0fc",
   "metadata": {},
   "source": [
    "Source: http://wandb.me/jupyter-interact-colab\n",
    "\n",
    "Documentation: https://docs.wandb.ai/"
   ]
  },
  {
   "cell_type": "code",
   "execution_count": null,
   "id": "4968ecfe",
   "metadata": {},
   "outputs": [],
   "source": [
    "import wandb\n",
    "\n",
    "wandb.login()"
   ]
  },
  {
   "cell_type": "code",
   "execution_count": null,
   "id": "1e733022",
   "metadata": {},
   "outputs": [],
   "source": [
    "run = wandb.init(project=\"jupyter-projo\",\n",
    "                 config={\"batch_size\": 128,\n",
    "                         \"learning_rate\": 0.01,\n",
    "                         \"dataset\": \"CIFAR-100\"})"
   ]
  },
  {
   "cell_type": "code",
   "execution_count": null,
   "id": "298823ca",
   "metadata": {},
   "outputs": [],
   "source": [
    "run.display(height=720)"
   ]
  },
  {
   "cell_type": "code",
   "execution_count": null,
   "id": "2718b246",
   "metadata": {},
   "outputs": [],
   "source": []
  }
 ],
 "metadata": {
  "kernelspec": {
   "display_name": "Python [conda env:torch17py3] *",
   "language": "python",
   "name": "conda-env-torch17py3-py"
  },
  "language_info": {
   "codemirror_mode": {
    "name": "ipython",
    "version": 3
   },
   "file_extension": ".py",
   "mimetype": "text/x-python",
   "name": "python",
   "nbconvert_exporter": "python",
   "pygments_lexer": "ipython3",
   "version": "3.7.11"
  }
 },
 "nbformat": 4,
 "nbformat_minor": 5
}
